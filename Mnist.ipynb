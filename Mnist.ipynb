{
  "nbformat": 4,
  "nbformat_minor": 0,
  "metadata": {
    "colab": {
      "name": "Week10.1.ipynb",
      "provenance": [],
      "authorship_tag": "ABX9TyNgS8VNp3LsmYO+qxUgCCvJ",
      "include_colab_link": true
    },
    "kernelspec": {
      "name": "python3",
      "display_name": "Python 3"
    },
    "language_info": {
      "name": "python"
    }
  },
  "cells": [
    {
      "cell_type": "markdown",
      "metadata": {
        "id": "view-in-github",
        "colab_type": "text"
      },
      "source": [
        "<a href=\"https://colab.research.google.com/github/LeTrungDunggg/LeTrungDunggg/blob/main/Mnist.ipynb\" target=\"_parent\"><img src=\"https://colab.research.google.com/assets/colab-badge.svg\" alt=\"Open In Colab\"/></a>"
      ]
    },
    {
      "cell_type": "code",
      "execution_count": null,
      "metadata": {
        "id": "lmuCKScU1Tdd"
      },
      "outputs": [],
      "source": [
        "from keras.datasets import mnist\n",
        "import matplotlib.pyplot as plt \n",
        "(x_train, y_train),(x_test,y_test) = mnist.load_data()"
      ]
    },
    {
      "cell_type": "code",
      "source": [
        "for i in range (9):\n",
        "  plt.subplot(330+i+1)\n",
        "  plt.imshow(x_train[i],cmap=plt.get_cmap('gray'))       \n",
        "plt.show()"
      ],
      "metadata": {
        "colab": {
          "base_uri": "https://localhost:8080/",
          "height": 268
        },
        "id": "UWdknQ251V_B",
        "outputId": "8d63b951-3715-4d36-c483-9e3b142f7e6d"
      },
      "execution_count": null,
      "outputs": [
        {
          "output_type": "display_data",
          "data": {
            "text/plain": [
              "<Figure size 432x288 with 9 Axes>"
            ],
            "image/png": "[encoded data removed]"
          },
          "metadata": {
            "needs_background": "light"
          }
        }
      ]
    },
    {
      "cell_type": "code",
      "source": [
        "from keras.utils import np_utils\n",
        "x_train=x_train.reshape(60000,784)\n",
        "x_test=x_test.reshape(10000,784)\n",
        "x_train=x_train.astype('float32')\n",
        "x_test=x_test.astype('float32')\n",
        "x_train/=255\n",
        "x_test/=255\n",
        "y_train=np_utils.to_categorical(y_train,10)\n",
        "y_test= np_utils.to_categorical(y_test,10)\n"
      ],
      "metadata": {
        "id": "9bmmRX9_1bZ6"
      },
      "execution_count": null,
      "outputs": []
    },
    {
      "cell_type": "code",
      "source": [
        "from keras.models import Sequential\n",
        "from keras.layers import Dense\n",
        "from keras.callbacks import EarlyStopping\n",
        "from sklearn.preprocessing import scale\n",
        "from keras.layers import Dense,Activation,Dropout\n",
        "model = Sequential()\n",
        "model.add(Dense(512,activation='relu',input_shape=(784,)))\n",
        "model.add(Dropout(0.1))\n",
        "model.add(Dense(512,activation='relu'))\n",
        "model.add(Dropout(0.1))\n",
        "model.add(Dense(10,activation='softmax'))\n",
        "model.summary()\n"
      ],
      "metadata": {
        "colab": {
          "base_uri": "https://localhost:8080/"
        },
        "id": "LNohA3eX1drY",
        "outputId": "0d5bb23c-407c-406c-ce82-8bba9e6134a6"
      },
      "execution_count": null,
      "outputs": [
        {
          "output_type": "stream",
          "name": "stdout",
          "text": [
            "Model: \"sequential\"\n",
            "_________________________________________________________________\n",
            " Layer (type)                Output Shape              Param #   \n",
            "=================================================================\n",
            " dense (Dense)               (None, 512)               401920    \n",
            "                                                                 \n",
            " dropout (Dropout)           (None, 512)               0         \n",
            "                                                                 \n",
            " dense_1 (Dense)             (None, 512)               262656    \n",
            "                                                                 \n",
            " dropout_1 (Dropout)         (None, 512)               0         \n",
            "                                                                 \n",
            " dense_2 (Dense)             (None, 10)                5130      \n",
            "                                                                 \n",
            "=================================================================\n",
            "Total params: 669,706\n",
            "Trainable params: 669,706\n",
            "Non-trainable params: 0\n",
            "_________________________________________________________________\n"
          ]
        }
      ]
    },
    {
      "cell_type": "code",
      "source": [
        "from keras.backend import categorical_crossentropy\n",
        "from keras.models import Sequential\n",
        "from keras.layers import Dense,Activation,Dropout\n",
        "from tensorflow.keras.optimizers import RMSprop\n",
        "from keras.callbacks import EarlyStopping\n",
        "\n",
        "#translate model\n",
        "model.compile(loss='categorical_crossentropy',optimizer=RMSprop(),metrics=['accuracy'])"
      ],
      "metadata": {
        "id": "sEMARvpo1fc4"
      },
      "execution_count": null,
      "outputs": []
    },
    {
      "cell_type": "code",
      "source": [
        "history=model.fit(x_train,y_train,batch_size=128,epochs=500,verbose=1,\n",
        "                  validation_split=0.2,callbacks=[EarlyStopping(monitor='val_loss',patience=20)])\n"
      ],
      "metadata": {
        "colab": {
          "base_uri": "https://localhost:8080/"
        },
        "id": "JGio1EXT1hdm",
        "outputId": "e345930b-3ff6-4256-f144-66a7bfde6754"
      },
      "execution_count": null,
      "outputs": [
        {
          "output_type": "stream",
          "name": "stdout",
          "text": [
            "Epoch 1/500\n",
            "375/375 [==============================] - 10s 23ms/step - loss: 0.2565 - accuracy: 0.9215 - val_loss: 0.1233 - val_accuracy: 0.9630\n",
            "Epoch 2/500\n",
            "375/375 [==============================] - 9s 23ms/step - loss: 0.0987 - accuracy: 0.9698 - val_loss: 0.0937 - val_accuracy: 0.9741\n",
            "Epoch 3/500\n",
            "375/375 [==============================] - 8s 22ms/step - loss: 0.0687 - accuracy: 0.9789 - val_loss: 0.0925 - val_accuracy: 0.9747\n",
            "Epoch 4/500\n",
            "375/375 [==============================] - 8s 22ms/step - loss: 0.0527 - accuracy: 0.9842 - val_loss: 0.0892 - val_accuracy: 0.9773\n",
            "Epoch 5/500\n",
            "375/375 [==============================] - 8s 21ms/step - loss: 0.0405 - accuracy: 0.9875 - val_loss: 0.0962 - val_accuracy: 0.9775\n",
            "Epoch 6/500\n",
            "375/375 [==============================] - 9s 25ms/step - loss: 0.0326 - accuracy: 0.9903 - val_loss: 0.0983 - val_accuracy: 0.9793\n",
            "Epoch 7/500\n",
            "375/375 [==============================] - 8s 22ms/step - loss: 0.0261 - accuracy: 0.9918 - val_loss: 0.1107 - val_accuracy: 0.9759\n",
            "Epoch 8/500\n",
            "375/375 [==============================] - 8s 22ms/step - loss: 0.0231 - accuracy: 0.9928 - val_loss: 0.1153 - val_accuracy: 0.9787\n",
            "Epoch 9/500\n",
            "375/375 [==============================] - 9s 24ms/step - loss: 0.0192 - accuracy: 0.9939 - val_loss: 0.1345 - val_accuracy: 0.9754\n",
            "Epoch 10/500\n",
            "375/375 [==============================] - 8s 21ms/step - loss: 0.0174 - accuracy: 0.9948 - val_loss: 0.1207 - val_accuracy: 0.9793\n",
            "Epoch 11/500\n",
            "375/375 [==============================] - 8s 22ms/step - loss: 0.0162 - accuracy: 0.9948 - val_loss: 0.1180 - val_accuracy: 0.9826\n",
            "Epoch 12/500\n",
            "375/375 [==============================] - 8s 22ms/step - loss: 0.0142 - accuracy: 0.9954 - val_loss: 0.1437 - val_accuracy: 0.9794\n",
            "Epoch 13/500\n",
            "375/375 [==============================] - 8s 22ms/step - loss: 0.0123 - accuracy: 0.9964 - val_loss: 0.1382 - val_accuracy: 0.9800\n",
            "Epoch 14/500\n",
            "375/375 [==============================] - 9s 24ms/step - loss: 0.0142 - accuracy: 0.9961 - val_loss: 0.1655 - val_accuracy: 0.9802\n",
            "Epoch 15/500\n",
            "375/375 [==============================] - 8s 22ms/step - loss: 0.0127 - accuracy: 0.9961 - val_loss: 0.1537 - val_accuracy: 0.9797\n",
            "Epoch 16/500\n",
            "375/375 [==============================] - 9s 25ms/step - loss: 0.0109 - accuracy: 0.9968 - val_loss: 0.1644 - val_accuracy: 0.9812\n",
            "Epoch 17/500\n",
            "375/375 [==============================] - 8s 21ms/step - loss: 0.0107 - accuracy: 0.9970 - val_loss: 0.1788 - val_accuracy: 0.9780\n",
            "Epoch 18/500\n",
            "375/375 [==============================] - 8s 21ms/step - loss: 0.0096 - accuracy: 0.9972 - val_loss: 0.1788 - val_accuracy: 0.9796\n",
            "Epoch 19/500\n",
            "375/375 [==============================] - 8s 21ms/step - loss: 0.0093 - accuracy: 0.9973 - val_loss: 0.1603 - val_accuracy: 0.9797\n",
            "Epoch 20/500\n",
            "375/375 [==============================] - 8s 22ms/step - loss: 0.0089 - accuracy: 0.9975 - val_loss: 0.1701 - val_accuracy: 0.9807\n",
            "Epoch 21/500\n",
            "375/375 [==============================] - 8s 22ms/step - loss: 0.0063 - accuracy: 0.9979 - val_loss: 0.1931 - val_accuracy: 0.9788\n",
            "Epoch 22/500\n",
            "375/375 [==============================] - 8s 22ms/step - loss: 0.0089 - accuracy: 0.9978 - val_loss: 0.1879 - val_accuracy: 0.9803\n",
            "Epoch 23/500\n",
            "375/375 [==============================] - 8s 21ms/step - loss: 0.0070 - accuracy: 0.9981 - val_loss: 0.1912 - val_accuracy: 0.9802\n",
            "Epoch 24/500\n",
            "375/375 [==============================] - 12s 31ms/step - loss: 0.0079 - accuracy: 0.9978 - val_loss: 0.1910 - val_accuracy: 0.9808\n"
          ]
        }
      ]
    },
    {
      "cell_type": "code",
      "source": [
        "y_pred= model.predict(x_test)\n",
        "print(y_pred.flatten)\n",
        "print(y_test)"
      ],
      "metadata": {
        "colab": {
          "base_uri": "https://localhost:8080/"
        },
        "id": "1ag3DbMI1vXt",
        "outputId": "5452bf46-6e6c-4c33-bacc-69c91921f98c"
      },
      "execution_count": null,
      "outputs": [
        {
          "output_type": "stream",
          "name": "stdout",
          "text": [
            "<built-in method flatten of numpy.ndarray object at 0x7f9073c50d50>\n",
            "[[0. 0. 0. ... 1. 0. 0.]\n",
            " [0. 0. 1. ... 0. 0. 0.]\n",
            " [0. 1. 0. ... 0. 0. 0.]\n",
            " ...\n",
            " [0. 0. 0. ... 0. 0. 0.]\n",
            " [0. 0. 0. ... 0. 0. 0.]\n",
            " [0. 0. 0. ... 0. 0. 0.]]\n"
          ]
        }
      ]
    },
    {
      "cell_type": "code",
      "source": [
        "score = model.evaluate(x_test,y_test,verbose=0)\n",
        "print('Test_loss :',score[0])\n",
        "print('Test accuracy : ',score[1])\n",
        "plt.plot(history.history['accuracy'])\n",
        "plt.plot(history. history['val_accuracy'])\n",
        "plt.title('Model accurancy')\n",
        "plt.ylabel('accurancy')\n",
        "plt.xlabel('epochs')\n",
        "plt.legend(['train','validation'])\n",
        "plt.show()\n"
      ],
      "metadata": {
        "colab": {
          "base_uri": "https://localhost:8080/",
          "height": 330
        },
        "id": "nZCkdddP189U",
        "outputId": "5227952a-75ca-4762-96f7-debd7d53de04"
      },
      "execution_count": null,
      "outputs": [
        {
          "output_type": "stream",
          "name": "stdout",
          "text": [
            "Test_loss : 0.16795721650123596\n",
            "Test accuracy :  0.9819999933242798\n"
          ]
        },
        {
          "output_type": "display_data",
          "data": {
            "text/plain": [
              "<Figure size 432x288 with 1 Axes>"
            ],
            "image/png": "[encoded data removed]"
          },
          "metadata": {
            "needs_background": "light"
          }
        }
      ]
    }
  ]
}